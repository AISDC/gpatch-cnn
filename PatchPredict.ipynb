{
 "cells": [
  {
   "cell_type": "code",
   "execution_count": null,
   "metadata": {},
   "outputs": [],
   "source": [
    "import matplotlib.pyplot as plt\n",
    "\n",
    "import numpy as np\n",
    "import torch\n",
    "from torch import nn\n",
    "from torch import optim\n",
    "import torch.nn.functional as F\n",
    "from torchvision import datasets, transforms, models\n",
    "from PIL import Image\n",
    "from torch.autograd import Variable\n",
    "from model import Gauss2D "
   ]
  },
  {
   "cell_type": "code",
   "execution_count": null,
   "metadata": {},
   "outputs": [],
   "source": [
    "data_dir = 'data/val'\n",
    "device = torch.device(\"cuda\" if torch.cuda.is_available() else \"cpu\")\n",
    "if device.type == 'cpu':\n",
    "    model=torch.load('model/model_out_gauss.pth',map_location=torch.device('cpu'))\n",
    "else: \n",
    "    model=torch.load('model/model_out_gauss.pth')\n",
    "model.eval()"
   ]
  },
  {
   "cell_type": "code",
   "execution_count": null,
   "metadata": {},
   "outputs": [],
   "source": [
    "#data_dir = 'patches'\n",
    "#data_transforms = transforms.Compose([transforms.Resize(11), transforms.ToTensor()]\n",
    "#image_datasets = {x: datasets.ImageFolder(os.path.join(data_dir, x),\n",
    "#                                          data_transforms[x])"
   ]
  },
  {
   "cell_type": "code",
   "execution_count": null,
   "metadata": {},
   "outputs": [],
   "source": [
    "img = Image.open('patches/img_0/img0_patch0.png')\n",
    "transform = transforms.Compose([\n",
    " transforms.Resize(11),\n",
    " transforms.ToTensor()\n",
    "])\n",
    "\n",
    "transformed_img = transform(img)\n",
    "\n",
    "data = transform(img).float()\n",
    "data = data.unsqueeze_(0)\n",
    "data = Variable(data)\n",
    "input   = data.to(device)"
   ]
  },
  {
   "cell_type": "code",
   "execution_count": null,
   "metadata": {},
   "outputs": [],
   "source": [
    "output = model(input)\n",
    "output = F.softmax(output, dim=1)\n",
    "prediction_score, pred_label_idx = torch.topk(output, 1)\n",
    "\n",
    "classes = ['one','two']\n",
    "pred_label_idx.squeeze_()\n",
    "predicted_label = classes[pred_label_idx.item()]\n",
    "print('Predicted:', predicted_label, '(', prediction_score.squeeze().item(), ')')\n",
    "plt.figure()\n",
    "plt.imshow(img)"
   ]
  }
 ],
 "metadata": {
  "kernelspec": {
   "display_name": "Python 3",
   "language": "python",
   "name": "python3"
  },
  "language_info": {
   "codemirror_mode": {
    "name": "ipython",
    "version": 3
   },
   "file_extension": ".py",
   "mimetype": "text/x-python",
   "name": "python",
   "nbconvert_exporter": "python",
   "pygments_lexer": "ipython3",
   "version": "3.7.7"
  }
 },
 "nbformat": 4,
 "nbformat_minor": 4
}
